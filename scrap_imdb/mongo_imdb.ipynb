{
 "cells": [
  {
   "cell_type": "code",
   "execution_count": 82,
   "metadata": {},
   "outputs": [],
   "source": [
    "from pymongo import MongoClient\n",
    "import re\n",
    "import streamlit as st"
   ]
  },
  {
   "cell_type": "code",
   "execution_count": 83,
   "metadata": {},
   "outputs": [
    {
     "name": "stdout",
     "output_type": "stream",
     "text": [
      "['admin', 'config', 'local', 'mongo_imdb']\n"
     ]
    }
   ],
   "source": [
    "client = MongoClient('mongodb://localhost:27017/')\n",
    "print(client.list_database_names())"
   ]
  },
  {
   "cell_type": "code",
   "execution_count": 84,
   "metadata": {},
   "outputs": [],
   "source": [
    "imdb_db_mv = client.mongo_imdb.Films\n",
    "imdb_db_tv = client.mongo_client.Séries"
   ]
  },
  {
   "cell_type": "markdown",
   "metadata": {},
   "source": [
    "## Question 1"
   ]
  },
  {
   "cell_type": "code",
   "execution_count": 85,
   "metadata": {},
   "outputs": [
    {
     "name": "stdout",
     "output_type": "stream",
     "text": [
      "Gone with the Wind\n"
     ]
    }
   ],
   "source": [
    "longest_mv = imdb_db_mv.find().sort(\"durée\", -1).limit(1)[0]\n",
    "print(longest_mv[\"title\"])"
   ]
  },
  {
   "cell_type": "markdown",
   "metadata": {},
   "source": [
    "## Question 2"
   ]
  },
  {
   "cell_type": "code",
   "execution_count": 86,
   "metadata": {},
   "outputs": [
    {
     "name": "stdout",
     "output_type": "stream",
     "text": [
      "The Shawshank Redemption\n",
      "The Godfather\n",
      "12 Angry Men\n",
      "The Godfather Part II\n",
      "Schindler's List\n"
     ]
    }
   ],
   "source": [
    "best_mv = imdb_db_mv.find().sort(\"score\", -1).limit(5)\n",
    "for i in best_mv :\n",
    "    print(i['title'])"
   ]
  },
  {
   "cell_type": "markdown",
   "metadata": {},
   "source": [
    "## Question 3"
   ]
  },
  {
   "cell_type": "code",
   "execution_count": 87,
   "metadata": {},
   "outputs": [
    {
     "name": "stdout",
     "output_type": "stream",
     "text": [
      "The Shawshank Redemption\n",
      "Million Dollar Baby\n",
      "Unforgiven\n",
      "Se7en\n"
     ]
    }
   ],
   "source": [
    "morgan = imdb_db_mv.find({\"acteurs\" : {'$regex' : 'Morgan Freeman'}})\n",
    "for elt in morgan :\n",
    "    print(elt[\"title\"])\n"
   ]
  },
  {
   "cell_type": "code",
   "execution_count": 88,
   "metadata": {},
   "outputs": [
    {
     "name": "stdout",
     "output_type": "stream",
     "text": [
      "Top Gun: Maverick\n"
     ]
    }
   ],
   "source": [
    "tom_cruise = imdb_db_mv.find({\"acteurs\" : {'$regex' : 'Tom Cruise'}})\n",
    "for elt in tom_cruise :\n",
    "    print(elt[\"title\"])\n"
   ]
  },
  {
   "cell_type": "markdown",
   "metadata": {},
   "source": [
    "## Question 4"
   ]
  },
  {
   "cell_type": "code",
   "execution_count": 89,
   "metadata": {},
   "outputs": [
    {
     "name": "stdout",
     "output_type": "stream",
     "text": [
      "Psycho\n",
      "Alien\n",
      "The Thing\n"
     ]
    }
   ],
   "source": [
    "horror = imdb_db_mv.find({\"genre\" : {'$regex' : 'Horror'}}).sort(\"score\", -1).limit(3)\n",
    "for elt in horror :\n",
    "    print(elt[\"title\"])"
   ]
  },
  {
   "cell_type": "code",
   "execution_count": 90,
   "metadata": {},
   "outputs": [
    {
     "name": "stdout",
     "output_type": "stream",
     "text": [
      "The Shawshank Redemption\n",
      "Forrest Gump\n",
      "Fight Club\n"
     ]
    }
   ],
   "source": [
    "drama = imdb_db_mv.find({\"genre\" : {'$regex' : 'Drama'}}).sort(\"score\", -1).limit(3)\n",
    "for elt in drama :\n",
    "    print(elt[\"title\"])"
   ]
  },
  {
   "cell_type": "code",
   "execution_count": 91,
   "metadata": {},
   "outputs": [
    {
     "name": "stdout",
     "output_type": "stream",
     "text": [
      "Life Is Beautiful\n",
      "City Lights\n",
      "Modern Times\n"
     ]
    }
   ],
   "source": [
    "comedy = imdb_db_mv.find({\"genre\" : {'$regex' : 'Comedy'}}).sort(\"score\", -1).limit(3)\n",
    "for elt in comedy :\n",
    "    print(elt[\"title\"])"
   ]
  },
  {
   "cell_type": "markdown",
   "metadata": {},
   "source": [
    "## Question 5"
   ]
  },
  {
   "cell_type": "code",
   "execution_count": null,
   "metadata": {},
   "outputs": [],
   "source": []
  }
 ],
 "metadata": {
  "kernelspec": {
   "display_name": "Python 3.10.8 ('scraping')",
   "language": "python",
   "name": "python3"
  },
  "language_info": {
   "codemirror_mode": {
    "name": "ipython",
    "version": 3
   },
   "file_extension": ".py",
   "mimetype": "text/x-python",
   "name": "python",
   "nbconvert_exporter": "python",
   "pygments_lexer": "ipython3",
   "version": "3.10.8"
  },
  "orig_nbformat": 4,
  "vscode": {
   "interpreter": {
    "hash": "172a492ef27e58c78f7996f5a4dc94f02daafd029039a16f2119b179d615c5dd"
   }
  }
 },
 "nbformat": 4,
 "nbformat_minor": 2
}
