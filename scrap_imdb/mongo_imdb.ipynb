{
 "cells": [
  {
   "cell_type": "code",
   "execution_count": 172,
   "metadata": {},
   "outputs": [],
   "source": [
    "from pymongo import MongoClient\n",
    "import re\n"
   ]
  },
  {
   "cell_type": "code",
   "execution_count": 173,
   "metadata": {},
   "outputs": [
    {
     "name": "stdout",
     "output_type": "stream",
     "text": [
      "['admin', 'config', 'local', 'mongo_imdb']\n"
     ]
    }
   ],
   "source": [
    "client = MongoClient('mongodb://localhost:27017/')\n",
    "print(client.list_database_names())"
   ]
  },
  {
   "cell_type": "code",
   "execution_count": 174,
   "metadata": {},
   "outputs": [],
   "source": [
    "imdb_db_mv = client.mongo_imdb.Films\n",
    "imdb_db_tv = client.mongo_imdb.Séries"
   ]
  },
  {
   "cell_type": "markdown",
   "metadata": {},
   "source": [
    "## Question 1"
   ]
  },
  {
   "cell_type": "code",
   "execution_count": 175,
   "metadata": {},
   "outputs": [
    {
     "name": "stdout",
     "output_type": "stream",
     "text": [
      "Gone with the Wind\n"
     ]
    }
   ],
   "source": [
    "longest_mv = imdb_db_mv.find().sort(\"durée\", -1).limit(1)[0]\n",
    "print(longest_mv[\"title\"])"
   ]
  },
  {
   "cell_type": "markdown",
   "metadata": {},
   "source": [
    "## Question 2"
   ]
  },
  {
   "cell_type": "code",
   "execution_count": 176,
   "metadata": {},
   "outputs": [
    {
     "name": "stdout",
     "output_type": "stream",
     "text": [
      "The Shawshank Redemption\n",
      "The Godfather\n",
      "12 Angry Men\n",
      "Schindler's List\n",
      "The Lord of the Rings: The Return of the King\n"
     ]
    }
   ],
   "source": [
    "best_mv = imdb_db_mv.find().sort(\"score\", -1).limit(5)\n",
    "for i in best_mv :\n",
    "    print(i['title'])"
   ]
  },
  {
   "cell_type": "markdown",
   "metadata": {},
   "source": [
    "## Question 3"
   ]
  },
  {
   "cell_type": "code",
   "execution_count": 177,
   "metadata": {},
   "outputs": [
    {
     "name": "stdout",
     "output_type": "stream",
     "text": [
      "The Shawshank Redemption\n",
      "Se7en\n",
      "Million Dollar Baby\n",
      "Unforgiven\n"
     ]
    }
   ],
   "source": [
    "morgan = imdb_db_mv.find({\"acteurs\" : {'$regex' : 'Morgan Freeman'}})\n",
    "for elt in morgan :\n",
    "    print(elt[\"title\"])\n"
   ]
  },
  {
   "cell_type": "code",
   "execution_count": 178,
   "metadata": {},
   "outputs": [
    {
     "name": "stdout",
     "output_type": "stream",
     "text": [
      "Top Gun: Maverick\n"
     ]
    }
   ],
   "source": [
    "tom_cruise = imdb_db_mv.find({\"acteurs\" : {'$regex' : 'Tom Cruise'}})\n",
    "for elt in tom_cruise :\n",
    "    print(elt[\"title\"])\n"
   ]
  },
  {
   "cell_type": "markdown",
   "metadata": {},
   "source": [
    "## Question 4"
   ]
  },
  {
   "cell_type": "code",
   "execution_count": 179,
   "metadata": {},
   "outputs": [
    {
     "name": "stdout",
     "output_type": "stream",
     "text": [
      "Alien\n",
      "Psycho\n",
      "The Thing\n"
     ]
    }
   ],
   "source": [
    "horror = imdb_db_mv.find({\"genre\" : {'$regex' : 'Horror'}}).sort(\"score\", -1).limit(3)\n",
    "for elt in horror :\n",
    "    print(elt[\"title\"])"
   ]
  },
  {
   "cell_type": "code",
   "execution_count": 180,
   "metadata": {},
   "outputs": [
    {
     "name": "stdout",
     "output_type": "stream",
     "text": [
      "The Shawshank Redemption\n",
      "Forrest Gump\n",
      "Fight Club\n"
     ]
    }
   ],
   "source": [
    "drama = imdb_db_mv.find({\"genre\" : {'$regex' : 'Drama'}}).sort(\"score\", -1).limit(3)\n",
    "for elt in drama :\n",
    "    print(elt[\"title\"])"
   ]
  },
  {
   "cell_type": "code",
   "execution_count": 181,
   "metadata": {},
   "outputs": [
    {
     "name": "stdout",
     "output_type": "stream",
     "text": [
      "Life Is Beautiful\n",
      "Modern Times\n",
      "City Lights\n"
     ]
    }
   ],
   "source": [
    "comedy = imdb_db_mv.find({\"genre\" : {'$regex' : 'Comedy'}}).sort(\"score\", -1).limit(3)\n",
    "for elt in comedy :\n",
    "    print(elt[\"title\"])"
   ]
  },
  {
   "cell_type": "markdown",
   "metadata": {},
   "source": [
    "## Question 5"
   ]
  },
  {
   "cell_type": "code",
   "execution_count": 182,
   "metadata": {},
   "outputs": [
    {
     "name": "stdout",
     "output_type": "stream",
     "text": [
      "100\n"
     ]
    }
   ],
   "source": [
    "us_100 = imdb_db_mv.find({\"pays_origine\" : 'United States'}).sort(\"score\", -1).limit(100)\n",
    "counter = 0\n",
    "for elt in us_100 :\n",
    "    counter += 1\n",
    "print(counter)"
   ]
  },
  {
   "cell_type": "code",
   "execution_count": 183,
   "metadata": {},
   "outputs": [
    {
     "name": "stdout",
     "output_type": "stream",
     "text": [
      "3\n"
     ]
    }
   ],
   "source": [
    "fr_100 = imdb_db_mv.find({\"pays_origine\" : 'France'}).sort(\"score\", -1).limit(100)\n",
    "counter = 0\n",
    "for elt in fr_100 :\n",
    "    counter += 1\n",
    "print(counter)"
   ]
  },
  {
   "cell_type": "markdown",
   "metadata": {},
   "source": [
    "## Question 6"
   ]
  },
  {
   "cell_type": "code",
   "execution_count": 184,
   "metadata": {},
   "outputs": [
    {
     "name": "stdout",
     "output_type": "stream",
     "text": [
      "{'_id': 'Mystery', 'durée': 122.75}\n",
      "{'_id': 'Crime', 'durée': 132.6}\n",
      "{'_id': 'Biography', 'durée': 142.77272727272728}\n",
      "{'_id': 'Comedy', 'durée': 111.43478260869566}\n",
      "{'_id': 'Drama', 'durée': 129.1846153846154}\n",
      "{'_id': 'Action', 'durée': 139.41860465116278}\n",
      "{'_id': 'Film-Noir', 'durée': 93.0}\n",
      "{'_id': 'Horror', 'durée': 114.25}\n",
      "{'_id': 'Adventure', 'durée': 142.38095238095238}\n",
      "{'_id': 'Western', 'durée': 148.5}\n",
      "{'_id': 'Animation', 'durée': 100.95652173913044}\n"
     ]
    }
   ],
   "source": [
    "duree_genre = imdb_db_mv.aggregate([\n",
    "    {\"$unwind\" : \"$genre\"},\n",
    "    {\"$group\": {\"_id\": \"$genre\",\"durée\": { \"$avg\": \"$durée\" }}\n",
    "    }])\n",
    "for mean_dur_genre in duree_genre:\n",
    "    print(mean_dur_genre)"
   ]
  }
 ],
 "metadata": {
  "kernelspec": {
   "display_name": "Python 3.10.8 ('scraping')",
   "language": "python",
   "name": "python3"
  },
  "language_info": {
   "codemirror_mode": {
    "name": "ipython",
    "version": 3
   },
   "file_extension": ".py",
   "mimetype": "text/x-python",
   "name": "python",
   "nbconvert_exporter": "python",
   "pygments_lexer": "ipython3",
   "version": "3.10.8"
  },
  "orig_nbformat": 4,
  "vscode": {
   "interpreter": {
    "hash": "172a492ef27e58c78f7996f5a4dc94f02daafd029039a16f2119b179d615c5dd"
   }
  }
 },
 "nbformat": 4,
 "nbformat_minor": 2
}
